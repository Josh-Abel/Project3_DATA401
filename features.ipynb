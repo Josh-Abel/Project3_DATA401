{
 "cells": [
  {
   "cell_type": "code",
   "execution_count": 215,
   "metadata": {},
   "outputs": [],
   "source": [
    "import pandas as pd\n",
    "import numpy as np\n",
    "import matplotlib.pyplot as plt\n",
    "\n",
    "from sklearn.feature_selection import RFE\n",
    "from sklearn.linear_model import LinearRegression\n",
    "from sklearn import preprocessing"
   ]
  },
  {
   "cell_type": "code",
   "execution_count": 2,
   "metadata": {},
   "outputs": [],
   "source": [
    "df_train = pd.read_csv(\"data/sberbank-russian-housing-market/train.csv\")\n",
    "df_macro = pd.read_csv(\"data/sberbank-russian-housing-market/macro.csv\")"
   ]
  },
  {
   "cell_type": "markdown",
   "metadata": {},
   "source": [
    "## Features from train.csv only\n",
    "#### Remove columns with NA's"
   ]
  },
  {
   "cell_type": "code",
   "execution_count": 3,
   "metadata": {},
   "outputs": [
    {
     "data": {
      "text/html": [
       "<div>\n",
       "<style scoped>\n",
       "    .dataframe tbody tr th:only-of-type {\n",
       "        vertical-align: middle;\n",
       "    }\n",
       "\n",
       "    .dataframe tbody tr th {\n",
       "        vertical-align: top;\n",
       "    }\n",
       "\n",
       "    .dataframe thead th {\n",
       "        text-align: right;\n",
       "    }\n",
       "</style>\n",
       "<table border=\"1\" class=\"dataframe\">\n",
       "  <thead>\n",
       "    <tr style=\"text-align: right;\">\n",
       "      <th></th>\n",
       "      <th>id</th>\n",
       "      <th>timestamp</th>\n",
       "      <th>full_sq</th>\n",
       "      <th>life_sq</th>\n",
       "      <th>floor</th>\n",
       "      <th>max_floor</th>\n",
       "      <th>material</th>\n",
       "      <th>build_year</th>\n",
       "      <th>num_room</th>\n",
       "      <th>kitch_sq</th>\n",
       "      <th>...</th>\n",
       "      <th>cafe_count_5000_price_2500</th>\n",
       "      <th>cafe_count_5000_price_4000</th>\n",
       "      <th>cafe_count_5000_price_high</th>\n",
       "      <th>big_church_count_5000</th>\n",
       "      <th>church_count_5000</th>\n",
       "      <th>mosque_count_5000</th>\n",
       "      <th>leisure_count_5000</th>\n",
       "      <th>sport_count_5000</th>\n",
       "      <th>market_count_5000</th>\n",
       "      <th>price_doc</th>\n",
       "    </tr>\n",
       "  </thead>\n",
       "  <tbody>\n",
       "    <tr>\n",
       "      <th>0</th>\n",
       "      <td>1</td>\n",
       "      <td>2011-08-20</td>\n",
       "      <td>43</td>\n",
       "      <td>27.0</td>\n",
       "      <td>4.0</td>\n",
       "      <td>NaN</td>\n",
       "      <td>NaN</td>\n",
       "      <td>NaN</td>\n",
       "      <td>NaN</td>\n",
       "      <td>NaN</td>\n",
       "      <td>...</td>\n",
       "      <td>9</td>\n",
       "      <td>4</td>\n",
       "      <td>0</td>\n",
       "      <td>13</td>\n",
       "      <td>22</td>\n",
       "      <td>1</td>\n",
       "      <td>0</td>\n",
       "      <td>52</td>\n",
       "      <td>4</td>\n",
       "      <td>5850000</td>\n",
       "    </tr>\n",
       "    <tr>\n",
       "      <th>1</th>\n",
       "      <td>2</td>\n",
       "      <td>2011-08-23</td>\n",
       "      <td>34</td>\n",
       "      <td>19.0</td>\n",
       "      <td>3.0</td>\n",
       "      <td>NaN</td>\n",
       "      <td>NaN</td>\n",
       "      <td>NaN</td>\n",
       "      <td>NaN</td>\n",
       "      <td>NaN</td>\n",
       "      <td>...</td>\n",
       "      <td>15</td>\n",
       "      <td>3</td>\n",
       "      <td>0</td>\n",
       "      <td>15</td>\n",
       "      <td>29</td>\n",
       "      <td>1</td>\n",
       "      <td>10</td>\n",
       "      <td>66</td>\n",
       "      <td>14</td>\n",
       "      <td>6000000</td>\n",
       "    </tr>\n",
       "    <tr>\n",
       "      <th>2</th>\n",
       "      <td>3</td>\n",
       "      <td>2011-08-27</td>\n",
       "      <td>43</td>\n",
       "      <td>29.0</td>\n",
       "      <td>2.0</td>\n",
       "      <td>NaN</td>\n",
       "      <td>NaN</td>\n",
       "      <td>NaN</td>\n",
       "      <td>NaN</td>\n",
       "      <td>NaN</td>\n",
       "      <td>...</td>\n",
       "      <td>10</td>\n",
       "      <td>3</td>\n",
       "      <td>0</td>\n",
       "      <td>11</td>\n",
       "      <td>27</td>\n",
       "      <td>0</td>\n",
       "      <td>4</td>\n",
       "      <td>67</td>\n",
       "      <td>10</td>\n",
       "      <td>5700000</td>\n",
       "    </tr>\n",
       "    <tr>\n",
       "      <th>3</th>\n",
       "      <td>4</td>\n",
       "      <td>2011-09-01</td>\n",
       "      <td>89</td>\n",
       "      <td>50.0</td>\n",
       "      <td>9.0</td>\n",
       "      <td>NaN</td>\n",
       "      <td>NaN</td>\n",
       "      <td>NaN</td>\n",
       "      <td>NaN</td>\n",
       "      <td>NaN</td>\n",
       "      <td>...</td>\n",
       "      <td>11</td>\n",
       "      <td>2</td>\n",
       "      <td>1</td>\n",
       "      <td>4</td>\n",
       "      <td>4</td>\n",
       "      <td>0</td>\n",
       "      <td>0</td>\n",
       "      <td>26</td>\n",
       "      <td>3</td>\n",
       "      <td>13100000</td>\n",
       "    </tr>\n",
       "    <tr>\n",
       "      <th>4</th>\n",
       "      <td>5</td>\n",
       "      <td>2011-09-05</td>\n",
       "      <td>77</td>\n",
       "      <td>77.0</td>\n",
       "      <td>4.0</td>\n",
       "      <td>NaN</td>\n",
       "      <td>NaN</td>\n",
       "      <td>NaN</td>\n",
       "      <td>NaN</td>\n",
       "      <td>NaN</td>\n",
       "      <td>...</td>\n",
       "      <td>319</td>\n",
       "      <td>108</td>\n",
       "      <td>17</td>\n",
       "      <td>135</td>\n",
       "      <td>236</td>\n",
       "      <td>2</td>\n",
       "      <td>91</td>\n",
       "      <td>195</td>\n",
       "      <td>14</td>\n",
       "      <td>16331452</td>\n",
       "    </tr>\n",
       "  </tbody>\n",
       "</table>\n",
       "<p>5 rows × 292 columns</p>\n",
       "</div>"
      ],
      "text/plain": [
       "   id   timestamp  full_sq  life_sq  floor  max_floor  material  build_year  \\\n",
       "0   1  2011-08-20       43     27.0    4.0        NaN       NaN         NaN   \n",
       "1   2  2011-08-23       34     19.0    3.0        NaN       NaN         NaN   \n",
       "2   3  2011-08-27       43     29.0    2.0        NaN       NaN         NaN   \n",
       "3   4  2011-09-01       89     50.0    9.0        NaN       NaN         NaN   \n",
       "4   5  2011-09-05       77     77.0    4.0        NaN       NaN         NaN   \n",
       "\n",
       "   num_room  kitch_sq    ...      cafe_count_5000_price_2500  \\\n",
       "0       NaN       NaN    ...                               9   \n",
       "1       NaN       NaN    ...                              15   \n",
       "2       NaN       NaN    ...                              10   \n",
       "3       NaN       NaN    ...                              11   \n",
       "4       NaN       NaN    ...                             319   \n",
       "\n",
       "  cafe_count_5000_price_4000 cafe_count_5000_price_high  \\\n",
       "0                          4                          0   \n",
       "1                          3                          0   \n",
       "2                          3                          0   \n",
       "3                          2                          1   \n",
       "4                        108                         17   \n",
       "\n",
       "   big_church_count_5000  church_count_5000  mosque_count_5000  \\\n",
       "0                     13                 22                  1   \n",
       "1                     15                 29                  1   \n",
       "2                     11                 27                  0   \n",
       "3                      4                  4                  0   \n",
       "4                    135                236                  2   \n",
       "\n",
       "   leisure_count_5000  sport_count_5000  market_count_5000  price_doc  \n",
       "0                   0                52                  4    5850000  \n",
       "1                  10                66                 14    6000000  \n",
       "2                   4                67                 10    5700000  \n",
       "3                   0                26                  3   13100000  \n",
       "4                  91               195                 14   16331452  \n",
       "\n",
       "[5 rows x 292 columns]"
      ]
     },
     "execution_count": 3,
     "metadata": {},
     "output_type": "execute_result"
    }
   ],
   "source": [
    "df_train.head()"
   ]
  },
  {
   "cell_type": "code",
   "execution_count": 4,
   "metadata": {},
   "outputs": [],
   "source": [
    "df_no_nans = df_train.dropna(axis = 1) # remove all columns with NaN's"
   ]
  },
  {
   "cell_type": "code",
   "execution_count": 5,
   "metadata": {},
   "outputs": [],
   "source": [
    "# for i in df_no_nans.columns:\n",
    "#     print(i)"
   ]
  },
  {
   "cell_type": "code",
   "execution_count": 6,
   "metadata": {},
   "outputs": [],
   "source": [
    "df_train_features = df_no_nans[['full_sq','product_type','male_f','female_f','raion_popul',\n",
    "            'area_m','green_zone_part','indust_part','children_school','school_education_centers_raion',\n",
    "            'healthcare_centers_raion','sport_objects_raion','shopping_centers_raion','office_raion','work_male',\n",
    "            'work_female','ekder_male','ekder_female','metro_km_avto','school_km',\n",
    "            'park_km','green_zone_km','industrial_km','water_treatment_km','cemetery_km',\n",
    "            'incineration_km','office_km','water_km','railroad_station_avto_km','public_transport_station_km',\n",
    "            'kremlin_km','big_road1_km','railroad_km','ts_km','big_market_km',\n",
    "            'market_shop_km','public_healthcare_km','university_km','workplaces_km','shopping_centers_km',\n",
    "            'market_count_5000','prom_part_3000','cafe_count_5000_na_price','church_count_5000','leisure_count_5000',\n",
    "            'sport_count_5000','trc_count_5000']]\n",
    "\n",
    "# cat features: \n",
    "#'thermal_power_plant_raion','incineration_raion','oil_chemistry_raion','radiation_raion','railroad_terminal_raion',\n",
    " #           'big_market_raion','nuclear_reactor_raion', 'detention_facility_raion', 'culture_objects_top_25'"
   ]
  },
  {
   "cell_type": "code",
   "execution_count": 7,
   "metadata": {},
   "outputs": [
    {
     "data": {
      "text/plain": [
       "47"
      ]
     },
     "execution_count": 7,
     "metadata": {},
     "output_type": "execute_result"
    }
   ],
   "source": [
    "len(df_train_features.columns)"
   ]
  },
  {
   "cell_type": "code",
   "execution_count": 8,
   "metadata": {},
   "outputs": [],
   "source": [
    "y_train = df_no_nans['price_doc']"
   ]
  },
  {
   "cell_type": "code",
   "execution_count": 9,
   "metadata": {},
   "outputs": [],
   "source": [
    "X_train = pd.get_dummies(df_train_features)"
   ]
  },
  {
   "cell_type": "code",
   "execution_count": 10,
   "metadata": {},
   "outputs": [
    {
     "data": {
      "text/plain": [
       "0.28080118436533497"
      ]
     },
     "execution_count": 10,
     "metadata": {},
     "output_type": "execute_result"
    }
   ],
   "source": [
    "model = LinearRegression()\n",
    "model.fit(X_train, y_train)\n",
    "model.score(X_train, y_train)"
   ]
  },
  {
   "cell_type": "markdown",
   "metadata": {},
   "source": [
    "### Remove rows with NA's"
   ]
  },
  {
   "cell_type": "code",
   "execution_count": 74,
   "metadata": {},
   "outputs": [],
   "source": [
    "df_no_nans_row = df_train.dropna(axis = 0)\n",
    "# df_no_nans_row = df_train.fillna(0) # remove all columns with NaN's"
   ]
  },
  {
   "cell_type": "code",
   "execution_count": 75,
   "metadata": {},
   "outputs": [],
   "source": [
    "# for i in df_no_nans_row.columns:\n",
    "#     print(i)"
   ]
  },
  {
   "cell_type": "code",
   "execution_count": 76,
   "metadata": {},
   "outputs": [],
   "source": [
    "df_train_features = df_no_nans_row[['full_sq','life_sq','floor','max_floor','material',\n",
    "                                   'build_year','num_room','kitch_sq','state','product_type',\n",
    "                                   'area_m','male_f','female_f','raion_popul','green_zone_part',\n",
    "                                   'indust_part','children_school','school_education_centers_raion','healthcare_centers_raion','sport_objects_raion',\n",
    "                                   'shopping_centers_raion','office_raion','work_male','work_female','ekder_male',\n",
    "                                   'ekder_female','metro_km_avto','school_km','park_km','green_zone_km',\n",
    "                                   'industrial_km','water_treatment_km','cemetery_km','office_km','water_km',\n",
    "                                   'railroad_station_avto_km','public_transport_station_km','big_road1_km','railroad_km','ts_km',\n",
    "                                   'big_market_km','market_shop_km','public_healthcare_km','university_km','workplaces_km',\n",
    "                                   'shopping_centers_km','market_count_1000','prom_part_3000','cafe_count_1000_na_price','church_count_1000',\n",
    "                                   'leisure_count_1000','trc_count_1000']]"
   ]
  },
  {
   "cell_type": "code",
   "execution_count": 77,
   "metadata": {},
   "outputs": [
    {
     "data": {
      "text/plain": [
       "52"
      ]
     },
     "execution_count": 77,
     "metadata": {},
     "output_type": "execute_result"
    }
   ],
   "source": [
    "df_train_features.shape[1]"
   ]
  },
  {
   "cell_type": "code",
   "execution_count": 78,
   "metadata": {},
   "outputs": [],
   "source": [
    "X_train = pd.get_dummies(df_train_features)\n",
    "y_train = df_no_nans_row['price_doc']"
   ]
  },
  {
   "cell_type": "code",
   "execution_count": 79,
   "metadata": {},
   "outputs": [
    {
     "data": {
      "text/plain": [
       "0.5629331672736545"
      ]
     },
     "execution_count": 79,
     "metadata": {},
     "output_type": "execute_result"
    }
   ],
   "source": [
    "model = LinearRegression()\n",
    "model.fit(X_train, y_train)\n",
    "model.score(X_train, y_train)"
   ]
  },
  {
   "cell_type": "markdown",
   "metadata": {},
   "source": [
    "## 50 Features from train.csv and macro.csv\n",
    "\n",
    "Highest 40 correlation to price_doc from train.csv.\n",
    "Highest 10 correlation to price_doc from macro.csv."
   ]
  },
  {
   "cell_type": "code",
   "execution_count": 168,
   "metadata": {},
   "outputs": [],
   "source": [
    "df_full = pd.merge(df_train,df_macro, on = 'timestamp')"
   ]
  },
  {
   "cell_type": "code",
   "execution_count": 143,
   "metadata": {},
   "outputs": [],
   "source": [
    "df_train_nnr = df_train._get_numeric_data().dropna(axis = 0).drop(columns=['id','ID_metro'])"
   ]
  },
  {
   "cell_type": "code",
   "execution_count": 144,
   "metadata": {},
   "outputs": [],
   "source": [
    "cor_train = df_train_nnr.corr()\n",
    "cor_target_train = abs(cor_train['price_doc'])\n",
    "relevant_train_features = cor_target_train[cor_target_train>0.1]"
   ]
  },
  {
   "cell_type": "code",
   "execution_count": 181,
   "metadata": {},
   "outputs": [],
   "source": [
    "top_40_train_features = list(relevant_train_features.sort_values(ascending = False).index[1:41])"
   ]
  },
  {
   "cell_type": "code",
   "execution_count": 182,
   "metadata": {},
   "outputs": [
    {
     "name": "stdout",
     "output_type": "stream",
     "text": [
      "full_sq\n",
      "life_sq\n",
      "num_room\n",
      "kitch_sq\n",
      "office_sqm_5000\n",
      "cafe_count_5000_price_high\n",
      "cafe_count_5000_price_2500\n",
      "cafe_count_5000_price_1500\n",
      "cafe_count_5000\n",
      "cafe_count_5000_price_1000\n",
      "cafe_count_5000_price_4000\n",
      "cafe_sum_5000_min_price_avg\n",
      "sport_count_5000\n",
      "cafe_count_5000_na_price\n",
      "cafe_count_5000_price_500\n",
      "cafe_avg_price_5000\n",
      "cafe_sum_5000_max_price_avg\n",
      "cafe_sum_3000_min_price_avg\n",
      "office_count_5000\n",
      "cafe_avg_price_3000\n",
      "office_sqm_3000\n",
      "cafe_count_3000_price_high\n",
      "cafe_sum_3000_max_price_avg\n",
      "sport_count_3000\n",
      "leisure_count_5000\n",
      "office_count_500\n",
      "church_count_5000\n",
      "trc_count_5000\n",
      "office_count_1000\n",
      "cafe_count_1000_price_high\n",
      "max_floor\n",
      "sadovoe_km\n",
      "sport_count_2000\n",
      "office_sqm_2000\n",
      "mkad_km\n",
      "kremlin_km\n",
      "cafe_sum_2000_min_price_avg\n",
      "cafe_count_1500_price_high\n",
      "bulvar_ring_km\n",
      "big_church_count_5000\n"
     ]
    }
   ],
   "source": [
    "# list of top 40 highest corr. in train.csv\n",
    "for i in top_40_train_features:\n",
    "    print(i) "
   ]
  },
  {
   "cell_type": "code",
   "execution_count": 120,
   "metadata": {},
   "outputs": [],
   "source": [
    "macro_price = df_macro.merge(df_train[['timestamp','price_doc']], on = 'timestamp')"
   ]
  },
  {
   "cell_type": "code",
   "execution_count": 124,
   "metadata": {},
   "outputs": [],
   "source": [
    "df_macro_nnr = macro_price._get_numeric_data().dropna(axis = 0)\n",
    "cor_macro = df_macro_nnr.corr()\n",
    "cor_target_macro = abs(cor_macro['price_doc'])"
   ]
  },
  {
   "cell_type": "code",
   "execution_count": 149,
   "metadata": {},
   "outputs": [],
   "source": [
    "top_10_macro_features = list(cor_target_macro.sort_values(ascending = False).index[1:11])"
   ]
  },
  {
   "cell_type": "code",
   "execution_count": 191,
   "metadata": {},
   "outputs": [
    {
     "name": "stdout",
     "output_type": "stream",
     "text": [
      "deposits_growth\n",
      "oil_urals\n",
      "rent_price_4+room_bus\n",
      "rent_price_2room_eco\n",
      "deposits_value\n",
      "mortgage_rate\n",
      "rent_price_3room_bus\n",
      "rent_price_1room_eco\n",
      "micex_rgbi_tr\n",
      "micex_cbi_tr\n"
     ]
    }
   ],
   "source": [
    "# list of top 40 highest corr. in train.csv\n",
    "for i in top_10_macro_features:\n",
    "    print(i)"
   ]
  },
  {
   "cell_type": "code",
   "execution_count": 184,
   "metadata": {},
   "outputs": [],
   "source": [
    "allfeat = top_40_train_features + top_10_macro_features\n",
    "allfeat.append('price_doc')"
   ]
  },
  {
   "cell_type": "code",
   "execution_count": 185,
   "metadata": {},
   "outputs": [],
   "source": [
    "raw_full = df_full[allfeat]"
   ]
  },
  {
   "cell_type": "code",
   "execution_count": 192,
   "metadata": {},
   "outputs": [],
   "source": [
    "raw_full_nn = raw_full_features.dropna(axis=0)"
   ]
  },
  {
   "cell_type": "code",
   "execution_count": 193,
   "metadata": {},
   "outputs": [
    {
     "data": {
      "text/html": [
       "<div>\n",
       "<style scoped>\n",
       "    .dataframe tbody tr th:only-of-type {\n",
       "        vertical-align: middle;\n",
       "    }\n",
       "\n",
       "    .dataframe tbody tr th {\n",
       "        vertical-align: top;\n",
       "    }\n",
       "\n",
       "    .dataframe thead th {\n",
       "        text-align: right;\n",
       "    }\n",
       "</style>\n",
       "<table border=\"1\" class=\"dataframe\">\n",
       "  <thead>\n",
       "    <tr style=\"text-align: right;\">\n",
       "      <th></th>\n",
       "      <th>full_sq</th>\n",
       "      <th>life_sq</th>\n",
       "      <th>num_room</th>\n",
       "      <th>kitch_sq</th>\n",
       "      <th>office_sqm_5000</th>\n",
       "      <th>cafe_count_5000_price_high</th>\n",
       "      <th>cafe_count_5000_price_2500</th>\n",
       "      <th>cafe_count_5000_price_1500</th>\n",
       "      <th>cafe_count_5000</th>\n",
       "      <th>cafe_count_5000_price_1000</th>\n",
       "      <th>...</th>\n",
       "      <th>oil_urals</th>\n",
       "      <th>rent_price_4+room_bus</th>\n",
       "      <th>rent_price_2room_eco</th>\n",
       "      <th>deposits_value</th>\n",
       "      <th>mortgage_rate</th>\n",
       "      <th>rent_price_3room_bus</th>\n",
       "      <th>rent_price_1room_eco</th>\n",
       "      <th>micex_rgbi_tr</th>\n",
       "      <th>micex_cbi_tr</th>\n",
       "      <th>price_doc</th>\n",
       "    </tr>\n",
       "  </thead>\n",
       "  <tbody>\n",
       "    <tr>\n",
       "      <th>7672</th>\n",
       "      <td>73</td>\n",
       "      <td>36.0</td>\n",
       "      <td>2.0</td>\n",
       "      <td>11.0</td>\n",
       "      <td>138650</td>\n",
       "      <td>0</td>\n",
       "      <td>1</td>\n",
       "      <td>11</td>\n",
       "      <td>38</td>\n",
       "      <td>16</td>\n",
       "      <td>...</td>\n",
       "      <td>101.99</td>\n",
       "      <td>139.43</td>\n",
       "      <td>41.30</td>\n",
       "      <td>14738946</td>\n",
       "      <td>12.89</td>\n",
       "      <td>89.07</td>\n",
       "      <td>32.61</td>\n",
       "      <td>140.70</td>\n",
       "      <td>231.82</td>\n",
       "      <td>10100000</td>\n",
       "    </tr>\n",
       "    <tr>\n",
       "      <th>8056</th>\n",
       "      <td>11</td>\n",
       "      <td>11.0</td>\n",
       "      <td>1.0</td>\n",
       "      <td>12.0</td>\n",
       "      <td>10742760</td>\n",
       "      <td>26</td>\n",
       "      <td>339</td>\n",
       "      <td>562</td>\n",
       "      <td>2295</td>\n",
       "      <td>537</td>\n",
       "      <td>...</td>\n",
       "      <td>103.34</td>\n",
       "      <td>160.69</td>\n",
       "      <td>40.77</td>\n",
       "      <td>15210054</td>\n",
       "      <td>12.62</td>\n",
       "      <td>87.26</td>\n",
       "      <td>2.31</td>\n",
       "      <td>139.37</td>\n",
       "      <td>233.22</td>\n",
       "      <td>2750000</td>\n",
       "    </tr>\n",
       "    <tr>\n",
       "      <th>8135</th>\n",
       "      <td>53</td>\n",
       "      <td>30.0</td>\n",
       "      <td>2.0</td>\n",
       "      <td>8.0</td>\n",
       "      <td>766701</td>\n",
       "      <td>0</td>\n",
       "      <td>10</td>\n",
       "      <td>39</td>\n",
       "      <td>142</td>\n",
       "      <td>43</td>\n",
       "      <td>...</td>\n",
       "      <td>103.34</td>\n",
       "      <td>160.69</td>\n",
       "      <td>40.77</td>\n",
       "      <td>15210054</td>\n",
       "      <td>12.62</td>\n",
       "      <td>87.26</td>\n",
       "      <td>2.31</td>\n",
       "      <td>138.20</td>\n",
       "      <td>233.39</td>\n",
       "      <td>9000000</td>\n",
       "    </tr>\n",
       "    <tr>\n",
       "      <th>8154</th>\n",
       "      <td>45</td>\n",
       "      <td>27.0</td>\n",
       "      <td>2.0</td>\n",
       "      <td>6.0</td>\n",
       "      <td>81947</td>\n",
       "      <td>0</td>\n",
       "      <td>2</td>\n",
       "      <td>12</td>\n",
       "      <td>31</td>\n",
       "      <td>5</td>\n",
       "      <td>...</td>\n",
       "      <td>103.34</td>\n",
       "      <td>160.69</td>\n",
       "      <td>40.77</td>\n",
       "      <td>15210054</td>\n",
       "      <td>12.62</td>\n",
       "      <td>87.26</td>\n",
       "      <td>2.31</td>\n",
       "      <td>138.32</td>\n",
       "      <td>233.56</td>\n",
       "      <td>7100000</td>\n",
       "    </tr>\n",
       "    <tr>\n",
       "      <th>8175</th>\n",
       "      <td>38</td>\n",
       "      <td>20.0</td>\n",
       "      <td>1.0</td>\n",
       "      <td>8.0</td>\n",
       "      <td>3903973</td>\n",
       "      <td>1</td>\n",
       "      <td>49</td>\n",
       "      <td>53</td>\n",
       "      <td>285</td>\n",
       "      <td>82</td>\n",
       "      <td>...</td>\n",
       "      <td>103.34</td>\n",
       "      <td>160.69</td>\n",
       "      <td>40.77</td>\n",
       "      <td>15210054</td>\n",
       "      <td>12.62</td>\n",
       "      <td>87.26</td>\n",
       "      <td>2.31</td>\n",
       "      <td>138.17</td>\n",
       "      <td>233.51</td>\n",
       "      <td>6450000</td>\n",
       "    </tr>\n",
       "  </tbody>\n",
       "</table>\n",
       "<p>5 rows × 61 columns</p>\n",
       "</div>"
      ],
      "text/plain": [
       "      full_sq  life_sq  num_room  kitch_sq  office_sqm_5000  \\\n",
       "7672       73     36.0       2.0      11.0           138650   \n",
       "8056       11     11.0       1.0      12.0         10742760   \n",
       "8135       53     30.0       2.0       8.0           766701   \n",
       "8154       45     27.0       2.0       6.0            81947   \n",
       "8175       38     20.0       1.0       8.0          3903973   \n",
       "\n",
       "      cafe_count_5000_price_high  cafe_count_5000_price_2500  \\\n",
       "7672                           0                           1   \n",
       "8056                          26                         339   \n",
       "8135                           0                          10   \n",
       "8154                           0                           2   \n",
       "8175                           1                          49   \n",
       "\n",
       "      cafe_count_5000_price_1500  cafe_count_5000  cafe_count_5000_price_1000  \\\n",
       "7672                          11               38                          16   \n",
       "8056                         562             2295                         537   \n",
       "8135                          39              142                          43   \n",
       "8154                          12               31                           5   \n",
       "8175                          53              285                          82   \n",
       "\n",
       "        ...      oil_urals  rent_price_4+room_bus  rent_price_2room_eco  \\\n",
       "7672    ...         101.99                 139.43                 41.30   \n",
       "8056    ...         103.34                 160.69                 40.77   \n",
       "8135    ...         103.34                 160.69                 40.77   \n",
       "8154    ...         103.34                 160.69                 40.77   \n",
       "8175    ...         103.34                 160.69                 40.77   \n",
       "\n",
       "      deposits_value  mortgage_rate  rent_price_3room_bus  \\\n",
       "7672        14738946          12.89                 89.07   \n",
       "8056        15210054          12.62                 87.26   \n",
       "8135        15210054          12.62                 87.26   \n",
       "8154        15210054          12.62                 87.26   \n",
       "8175        15210054          12.62                 87.26   \n",
       "\n",
       "      rent_price_1room_eco  micex_rgbi_tr  micex_cbi_tr  price_doc  \n",
       "7672                 32.61         140.70        231.82   10100000  \n",
       "8056                  2.31         139.37        233.22    2750000  \n",
       "8135                  2.31         138.20        233.39    9000000  \n",
       "8154                  2.31         138.32        233.56    7100000  \n",
       "8175                  2.31         138.17        233.51    6450000  \n",
       "\n",
       "[5 rows x 61 columns]"
      ]
     },
     "execution_count": 193,
     "metadata": {},
     "output_type": "execute_result"
    }
   ],
   "source": [
    "raw_full_nn.head() #Features and response var."
   ]
  },
  {
   "cell_type": "code",
   "execution_count": 194,
   "metadata": {},
   "outputs": [],
   "source": [
    "X_train = raw_full_nn.drop('price_doc',1)\n",
    "y_train = raw_full_nn['price_doc']"
   ]
  },
  {
   "cell_type": "code",
   "execution_count": 195,
   "metadata": {},
   "outputs": [
    {
     "data": {
      "text/plain": [
       "0.5475225806388361"
      ]
     },
     "execution_count": 195,
     "metadata": {},
     "output_type": "execute_result"
    }
   ],
   "source": [
    "model = LinearRegression()\n",
    "model.fit(X_train, y_train)\n",
    "model.score(X_train, y_train)"
   ]
  },
  {
   "cell_type": "markdown",
   "metadata": {},
   "source": [
    "## Top features from train.csv & macro.csv (no redundant features)\n",
    "\n",
    "ex: Only 1 cafe_count, Only 1 cafe_sum"
   ]
  },
  {
   "cell_type": "code",
   "execution_count": 311,
   "metadata": {},
   "outputs": [],
   "source": [
    "df_top_raw = df_full[['full_sq',\n",
    "'life_sq',\n",
    "'num_room',\n",
    "'kitch_sq',\n",
    "'office_sqm_5000',\n",
    "'cafe_count_5000_price_high',\n",
    "'cafe_sum_5000_min_price_avg',\n",
    "'sport_count_5000',\n",
    "'cafe_avg_price_5000',\n",
    "'office_count_5000',\n",
    "'office_sqm_3000',\n",
    "'leisure_count_5000',\n",
    "'church_count_5000',\n",
    "'trc_count_5000',\n",
    "'max_floor',\n",
    "'sadovoe_km',\n",
    "'mkad_km',\n",
    "'kremlin_km',\n",
    "'bulvar_ring_km',\n",
    "'big_church_count_5000',\n",
    "'deposits_growth',\n",
    "'oil_urals',\n",
    "'rent_price_4+room_bus',\n",
    "'rent_price_2room_eco',\n",
    "'deposits_value',\n",
    "'mortgage_rate',\n",
    "'rent_price_3room_bus',\n",
    "'rent_price_1room_eco',\n",
    "'micex_rgbi_tr',\n",
    "'micex_cbi_tr',\n",
    "'price_doc']]"
   ]
  },
  {
   "cell_type": "code",
   "execution_count": 312,
   "metadata": {},
   "outputs": [],
   "source": [
    "df_top_nn = df_top_raw.dropna(axis=0)\n",
    "# df_top_nn = df_top_raw.fillna(0)"
   ]
  },
  {
   "cell_type": "code",
   "execution_count": 313,
   "metadata": {},
   "outputs": [],
   "source": [
    "X_train = df_top_nn.drop('price_doc',1)\n",
    "y_train = df_top_nn['price_doc'] "
   ]
  },
  {
   "cell_type": "code",
   "execution_count": 314,
   "metadata": {},
   "outputs": [],
   "source": [
    "scaler = preprocessing.StandardScaler()\n",
    "X_train_scaled = scaler.fit_transform(X_train)\n",
    "X_train_scaled_df = pd.DataFrame(X_train_scaled, columns = X_train.columns)"
   ]
  },
  {
   "cell_type": "code",
   "execution_count": 315,
   "metadata": {},
   "outputs": [
    {
     "data": {
      "text/plain": [
       "<matplotlib.axes._subplots.AxesSubplot at 0x20259af8860>"
      ]
     },
     "execution_count": 315,
     "metadata": {},
     "output_type": "execute_result"
    },
    {
     "data": {
      "image/png": "[encoded data removed]",
      "text/plain": [
       "<Figure size 432x288 with 1 Axes>"
      ]
     },
     "metadata": {},
     "output_type": "display_data"
    }
   ],
   "source": [
    "y_train.plot.density()"
   ]
  },
  {
   "cell_type": "code",
   "execution_count": 316,
   "metadata": {},
   "outputs": [
    {
     "data": {
      "text/plain": [
       "<matplotlib.axes._subplots.AxesSubplot at 0x20259af8ac8>"
      ]
     },
     "execution_count": 316,
     "metadata": {},
     "output_type": "execute_result"
    },
    {
     "data": {
      "image/png": "[encoded data removed]",
      "text/plain": [
       "<Figure size 432x288 with 1 Axes>"
      ]
     },
     "metadata": {},
     "output_type": "display_data"
    }
   ],
   "source": [
    "y_train_log = np.log(y_train)\n",
    "y_train_log.plot.density()"
   ]
  },
  {
   "cell_type": "code",
   "execution_count": 317,
   "metadata": {},
   "outputs": [
    {
     "data": {
      "text/plain": [
       "<matplotlib.axes._subplots.AxesSubplot at 0x20259f710b8>"
      ]
     },
     "execution_count": 317,
     "metadata": {},
     "output_type": "execute_result"
    },
    {
     "data": {
      "image/png": "[encoded data removed]",
      "text/plain": [
       "<Figure size 432x288 with 1 Axes>"
      ]
     },
     "metadata": {},
     "output_type": "display_data"
    }
   ],
   "source": [
    "y_train_scaled = (y_train -np.mean(y_train))/np.sqrt(np.var(y_train))\n",
    "y_train_scaled.plot.density()"
   ]
  },
  {
   "cell_type": "code",
   "execution_count": 318,
   "metadata": {},
   "outputs": [
    {
     "data": {
      "text/plain": [
       "<matplotlib.axes._subplots.AxesSubplot at 0x2025a9cbbe0>"
      ]
     },
     "execution_count": 318,
     "metadata": {},
     "output_type": "execute_result"
    },
    {
     "data": {
      "image/png": "[encoded data removed]",
      "text/plain": [
       "<Figure size 432x288 with 1 Axes>"
      ]
     },
     "metadata": {},
     "output_type": "display_data"
    }
   ],
   "source": [
    "y_train_trans = y_train**(1/2)\n",
    "y_train_trans.plot.density()"
   ]
  },
  {
   "cell_type": "code",
   "execution_count": 319,
   "metadata": {},
   "outputs": [
    {
     "data": {
      "text/plain": [
       "0.5280911982055061"
      ]
     },
     "execution_count": 319,
     "metadata": {},
     "output_type": "execute_result"
    }
   ],
   "source": [
    "model.fit(X_train_scaled, y_train)\n",
    "model.score(X_train_scaled, y_train)"
   ]
  }
 ],
 "metadata": {
  "kernelspec": {
   "display_name": "Python 3",
   "language": "python",
   "name": "python3"
  },
  "language_info": {
   "codemirror_mode": {
    "name": "ipython",
    "version": 3
   },
   "file_extension": ".py",
   "mimetype": "text/x-python",
   "name": "python",
   "nbconvert_exporter": "python",
   "pygments_lexer": "ipython3",
   "version": "3.6.5"
  }
 },
 "nbformat": 4,
 "nbformat_minor": 2
}
