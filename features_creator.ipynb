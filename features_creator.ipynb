{
 "cells": [
  {
   "cell_type": "code",
   "execution_count": 1,
   "metadata": {},
   "outputs": [],
   "source": [
    "import pandas as pd\n",
    "import numpy as np\n",
    "import os\n",
    "from sklearn import preprocessing"
   ]
  },
  {
   "cell_type": "code",
   "execution_count": 2,
   "metadata": {},
   "outputs": [],
   "source": [
    "maindir = os.getcwd()\n",
    "os.chdir(\"/../../../datasets/sberbank-russian-housing-market\")"
   ]
  },
  {
   "cell_type": "code",
   "execution_count": 3,
   "metadata": {},
   "outputs": [],
   "source": [
    "df_train = pd.read_csv(\"train.csv\")\n",
    "df_macro = pd.read_csv(\"macro.csv\")\n",
    "df_full = pd.merge(df_train,df_macro, on = 'timestamp')"
   ]
  },
  {
   "cell_type": "code",
   "execution_count": 4,
   "metadata": {},
   "outputs": [],
   "source": [
    "df_top_raw = df_full[['full_sq',\n",
    "'life_sq',\n",
    "'num_room',\n",
    "'kitch_sq',\n",
    "'office_sqm_5000',\n",
    "'cafe_count_5000_price_high',\n",
    "'cafe_sum_5000_min_price_avg',\n",
    "'sport_count_5000',\n",
    "'cafe_avg_price_5000',\n",
    "'office_count_5000',\n",
    "'office_sqm_3000',\n",
    "'leisure_count_5000',\n",
    "'church_count_5000',\n",
    "'trc_count_5000',\n",
    "'max_floor',\n",
    "'sadovoe_km',\n",
    "'mkad_km',\n",
    "'kremlin_km',\n",
    "'bulvar_ring_km',\n",
    "'big_church_count_5000',\n",
    "'deposits_growth',\n",
    "'oil_urals',\n",
    "'rent_price_4+room_bus',\n",
    "'rent_price_2room_eco',\n",
    "'deposits_value',\n",
    "'mortgage_rate',\n",
    "'rent_price_3room_bus',\n",
    "'rent_price_1room_eco',\n",
    "'micex_rgbi_tr',\n",
    "'micex_cbi_tr',\n",
    "'price_doc']]"
   ]
  },
  {
   "cell_type": "code",
   "execution_count": 5,
   "metadata": {},
   "outputs": [],
   "source": [
    "# Remove NaN rows\n",
    "df_top_nn = df_top_raw.dropna(axis=0)"
   ]
  },
  {
   "cell_type": "code",
   "execution_count": 6,
   "metadata": {},
   "outputs": [],
   "source": [
    "X_train = df_top_nn.drop('price_doc',1)\n",
    "y_train = df_top_nn['price_doc'] "
   ]
  },
  {
   "cell_type": "code",
   "execution_count": 7,
   "metadata": {},
   "outputs": [],
   "source": [
    "# Scaling Features\n",
    "scaler = preprocessing.StandardScaler()\n",
    "X_train_scaled = scaler.fit_transform(X_train)\n",
    "X_train_scaled_df = pd.DataFrame(X_train_scaled, columns = X_train.columns)"
   ]
  },
  {
   "cell_type": "code",
   "execution_count": 8,
   "metadata": {},
   "outputs": [],
   "source": [
    "# Transforming Response\n",
    "y_train_trans = y_train**(1/2)\n",
    "y_train_scaled = (y_train -np.mean(y_train))/np.sqrt(np.var(y_train))\n",
    "y_train_log = np.log(y_train)"
   ]
  },
  {
   "cell_type": "code",
   "execution_count": 9,
   "metadata": {},
   "outputs": [],
   "source": [
    "res_y_train = y_train.reset_index().drop('index',1)"
   ]
  },
  {
   "cell_type": "code",
   "execution_count": 10,
   "metadata": {},
   "outputs": [],
   "source": [
    "scaled_full = X_train_scaled_df.merge(res_y_train, left_index=True, right_index = True)"
   ]
  },
  {
   "cell_type": "code",
   "execution_count": 12,
   "metadata": {},
   "outputs": [],
   "source": [
    "os.chdir(maindir)"
   ]
  },
  {
   "cell_type": "code",
   "execution_count": 13,
   "metadata": {},
   "outputs": [],
   "source": [
    "scaled_full.to_csv('features.csv')"
   ]
  },
  {
   "cell_type": "code",
   "execution_count": null,
   "metadata": {},
   "outputs": [],
   "source": []
  }
 ],
 "metadata": {
  "kernelspec": {
   "display_name": "Python 3",
   "language": "python",
   "name": "python3"
  },
  "language_info": {
   "codemirror_mode": {
    "name": "ipython",
    "version": 3
   },
   "file_extension": ".py",
   "mimetype": "text/x-python",
   "name": "python",
   "nbconvert_exporter": "python",
   "pygments_lexer": "ipython3",
   "version": "3.7.3"
  }
 },
 "nbformat": 4,
 "nbformat_minor": 2
}
