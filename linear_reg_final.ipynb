{
 "cells": [
  {
   "cell_type": "code",
   "execution_count": 1,
   "metadata": {},
   "outputs": [],
   "source": [
    "import numpy as np\n",
    "import pandas as pd\n",
    "import timeit\n",
    "\n",
    "%matplotlib inline\n",
    "import matplotlib.pyplot as plt\n",
    "\n",
    "from sklearn.metrics import mean_squared_error\n",
    "from sklearn.linear_model import LinearRegression"
   ]
  },
  {
   "cell_type": "code",
   "execution_count": 2,
   "metadata": {},
   "outputs": [],
   "source": [
    "df_raw = pd.read_csv('data/sberbank-russian-housing-market/train.csv')\n",
    "df_raw = df_raw.select_dtypes(exclude=['category', 'object'])\n",
    "df_raw = df_raw.drop(['id'], axis=1)"
   ]
  },
  {
   "cell_type": "code",
   "execution_count": 3,
   "metadata": {},
   "outputs": [],
   "source": [
    "df_corr = df_raw.corr()"
   ]
  },
  {
   "cell_type": "code",
   "execution_count": 4,
   "metadata": {},
   "outputs": [],
   "source": [
    "remove_cols = set()\n",
    "for col1 in df_raw.columns:\n",
    "    if col1 in remove_cols or col1 == 'price_doc':\n",
    "        continue\n",
    "        \n",
    "    for col2 in df_raw.columns:\n",
    "        if col1 == col2 or col2 in remove_cols or col2 == 'price_doc':\n",
    "            continue\n",
    "            \n",
    "        if abs(df_corr[col1][col2]) > 0.80:\n",
    "            remove_cols.add(col2)\n",
    "            \n",
    "df = df_raw.drop(list(remove_cols), axis=1)"
   ]
  },
  {
   "cell_type": "code",
   "execution_count": null,
   "metadata": {},
   "outputs": [],
   "source": [
    "from sklearn.impute import KNNImputer\n",
    "imputer = KNNImputer(n_neighbors=2)\n",
    "df = pd.DataFrame(imputer.fit_transform(df), columns = df.columns)"
   ]
  },
  {
   "cell_type": "code",
   "execution_count": null,
   "metadata": {},
   "outputs": [],
   "source": [
    "prices = df['price_doc']"
   ]
  },
  {
   "cell_type": "code",
   "execution_count": null,
   "metadata": {},
   "outputs": [],
   "source": [
    "from sklearn.preprocessing import StandardScaler\n",
    "\n",
    "scaler = StandardScaler()\n",
    "df = pd.DataFrame(scaler.fit_transform(df), columns=df.columns)"
   ]
  },
  {
   "cell_type": "code",
   "execution_count": null,
   "metadata": {
    "scrolled": true
   },
   "outputs": [],
   "source": [
    "NUM_FEATURES = 50\n",
    "highest_corrs = abs(df_corr['price_doc']).sort_values(ascending=False)[1:]\n",
    "features = ['price_doc']\n",
    "c = 0\n",
    "for feat in highest_corrs.index:\n",
    "    if feat in set(df.columns):\n",
    "        features.append(feat)\n",
    "        c += 1\n",
    "        \n",
    "    if c >= NUM_FEATURES:\n",
    "        break"
   ]
  },
  {
   "cell_type": "code",
   "execution_count": null,
   "metadata": {},
   "outputs": [],
   "source": [
    "df = df[features]\n",
    "df.head()"
   ]
  },
  {
   "cell_type": "code",
   "execution_count": null,
   "metadata": {},
   "outputs": [],
   "source": [
    "df.drop('price_doc',1,inplace=True)"
   ]
  },
  {
   "cell_type": "code",
   "execution_count": null,
   "metadata": {},
   "outputs": [],
   "source": [
    "df = pd.concat([df,prices],axis=1)"
   ]
  },
  {
   "cell_type": "code",
   "execution_count": null,
   "metadata": {},
   "outputs": [],
   "source": [
    "X = df.drop('price_doc', axis=1)\n",
    "y = np.sqrt(df['price_doc'])\n",
    "\n",
    "# X_train = X.iloc[:int(30471 * 0.8)]\n",
    "# y_train = y.iloc[:int(30471 * 0.8)]\n",
    "# X_test = X.iloc[int(30471 * 0.8)+1:]\n",
    "# y_test = y.iloc[int(30471 * 0.8)+1:]\n",
    "\n",
    "X_train = X.iloc[:int(30471 * 0.5)]\n",
    "y_train = y.iloc[:int(30471 * 0.5)]\n",
    "X_test = X.iloc[int(30471 * 0.5)+1:]\n",
    "y_test = y.iloc[int(30471 * 0.5)+1:]"
   ]
  },
  {
   "cell_type": "code",
   "execution_count": null,
   "metadata": {},
   "outputs": [],
   "source": [
    "# Raw price_doc density plot\n",
    "df['price_doc'].plot.density()"
   ]
  },
  {
   "cell_type": "code",
   "execution_count": null,
   "metadata": {},
   "outputs": [],
   "source": [
    "# sqrt(price_doc) density plot\n",
    "y.plot.density()"
   ]
  },
  {
   "cell_type": "code",
   "execution_count": null,
   "metadata": {},
   "outputs": [],
   "source": [
    "start_time = timeit.default_timer()\n",
    "reg = LinearRegression().fit(X_train,y_train)\n",
    "y_pred_lin = reg.predict(X_test.drop('ones',1))\n",
    "elapsed = timeit.default_timer() - start_time\n",
    "print(\"Time (minutes) elapsed for this cell:\", elapsed/60)"
   ]
  },
  {
   "cell_type": "code",
   "execution_count": null,
   "metadata": {},
   "outputs": [],
   "source": [
    "rmse = np.sqrt(mean_squared_error(y_test, y_pred_lin))\n",
    "rmse**2 # back transforming sqrt(price_doc)"
   ]
  },
  {
   "cell_type": "code",
   "execution_count": null,
   "metadata": {},
   "outputs": [],
   "source": [
    "reg.score(X_test.drop('ones',1),y_test)"
   ]
  }
 ],
 "metadata": {
  "kernelspec": {
   "display_name": "Python 3",
   "language": "python",
   "name": "python3"
  },
  "language_info": {
   "codemirror_mode": {
    "name": "ipython",
    "version": 3
   },
   "file_extension": ".py",
   "mimetype": "text/x-python",
   "name": "python",
   "nbconvert_exporter": "python",
   "pygments_lexer": "ipython3",
   "version": "3.6.5"
  }
 },
 "nbformat": 4,
 "nbformat_minor": 2
}
